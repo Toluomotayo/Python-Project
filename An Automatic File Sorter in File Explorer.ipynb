{
 "cells": [
  {
   "cell_type": "code",
   "execution_count": 99,
   "id": "17c70a35-0d1f-49b1-8e50-20982284a896",
   "metadata": {},
   "outputs": [],
   "source": [
    "import os\n",
    "import shutil"
   ]
  },
  {
   "cell_type": "code",
   "execution_count": 101,
   "id": "b974f606-7a62-4a81-aa93-381cf7730cca",
   "metadata": {},
   "outputs": [],
   "source": [
    "path= r'C:/Users/user/Downloads/Ultimate+Excel+Tutorial/'"
   ]
  },
  {
   "cell_type": "code",
   "execution_count": 103,
   "id": "ea757fd9-45e6-400d-a2a6-0fd098ef9c20",
   "metadata": {},
   "outputs": [],
   "source": [
    "file_name= os.listdir(path)"
   ]
  },
  {
   "cell_type": "code",
   "execution_count": 105,
   "id": "d481df22-73b9-413e-a34e-3fcbf6a7480d",
   "metadata": {},
   "outputs": [],
   "source": [
    "if not os.path.exists(path+\"Pivot Table\"):\n",
    "    os.makedirs(path+\"Pivot Table\")\n",
    "    \n",
    "for file in file_name:\n",
    "    if \".xlsx\" in file and not os.path.exists(path+\"Pivot Table/\"+file):\n",
    "        shutil.move(path +file, path+\"Pivot Table/\"+file)"
   ]
  },
  {
   "cell_type": "code",
   "execution_count": null,
   "id": "f6645e7e-4a30-4169-a90f-caa9ba044926",
   "metadata": {},
   "outputs": [],
   "source": []
  },
  {
   "cell_type": "code",
   "execution_count": null,
   "id": "4898777d-15ee-4e9b-84b9-34c679f10fd6",
   "metadata": {},
   "outputs": [],
   "source": []
  },
  {
   "cell_type": "code",
   "execution_count": null,
   "id": "f33c0ea0-87c6-40d0-a8a6-6c43eaa0d714",
   "metadata": {},
   "outputs": [],
   "source": []
  },
  {
   "cell_type": "code",
   "execution_count": null,
   "id": "88377081-3058-47d4-9469-3f10493a36b3",
   "metadata": {},
   "outputs": [],
   "source": []
  },
  {
   "cell_type": "code",
   "execution_count": null,
   "id": "43480dd0-dc5f-454b-aebe-6898174e2158",
   "metadata": {},
   "outputs": [],
   "source": []
  },
  {
   "cell_type": "code",
   "execution_count": null,
   "id": "14af90e2-ea04-4870-9d52-9e4e07968c18",
   "metadata": {},
   "outputs": [],
   "source": []
  },
  {
   "cell_type": "code",
   "execution_count": null,
   "id": "af2fdf4a-4a3d-498e-a278-c069eab592a5",
   "metadata": {},
   "outputs": [],
   "source": []
  },
  {
   "cell_type": "code",
   "execution_count": null,
   "id": "d1becc6d-a50e-4078-bc6c-d69500970b50",
   "metadata": {},
   "outputs": [],
   "source": []
  }
 ],
 "metadata": {
  "kernelspec": {
   "display_name": "Python 3 (ipykernel)",
   "language": "python",
   "name": "python3"
  },
  "language_info": {
   "codemirror_mode": {
    "name": "ipython",
    "version": 3
   },
   "file_extension": ".py",
   "mimetype": "text/x-python",
   "name": "python",
   "nbconvert_exporter": "python",
   "pygments_lexer": "ipython3",
   "version": "3.11.7"
  }
 },
 "nbformat": 4,
 "nbformat_minor": 5
}
