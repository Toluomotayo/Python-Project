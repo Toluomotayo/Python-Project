{
 "cells": [
  {
   "cell_type": "code",
   "execution_count": 50,
   "id": "b731a9e7-ccd6-4599-960d-1e6be130540a",
   "metadata": {},
   "outputs": [
    {
     "name": "stdin",
     "output_type": "stream",
     "text": [
      "Enter your Name: Tolu\n",
      "Enter your weight in Kilograms: 55\n",
      "Enter your height in Meters: 1.55\n"
     ]
    },
    {
     "name": "stdout",
     "output_type": "stream",
     "text": [
      "22.892819979188342\n",
      "Tolu, you are normal weight\n"
     ]
    }
   ],
   "source": [
    "Name = input ('Enter your Name:')\n",
    "Weight = int(input('Enter your weight in Kilograms:'))\n",
    "Height = float(input('Enter your height in Meters:'))\n",
    "BMI =(Weight / (Height * Height))\n",
    "print (BMI)\n",
    "if BMI>0:\n",
    "    if BMI<18.5:\n",
    "        print(Name +', you are underweight')\n",
    "    elif BMI >=18.5<=24.99:\n",
    "        print(Name +', you are normal weight')\n",
    "    elif BMI >=25<=29.99:\n",
    "        print(Name +', you are overweight')\n",
    "    elif BMI >=30<=34.99:\n",
    "        print(Name +', you are obese')\n",
    "    elif BMI >=35<=39.99:\n",
    "        print(Name +', you are severely obese')\n",
    "    else:\n",
    "        print(Name +', you are morbidly obese')"
   ]
  },
  {
   "cell_type": "code",
   "execution_count": null,
   "id": "b6465ba3-5c96-42cd-9264-97e11f938c85",
   "metadata": {},
   "outputs": [],
   "source": []
  },
  {
   "cell_type": "code",
   "execution_count": null,
   "id": "06c66172-328f-4066-8c9b-2e50827ec18a",
   "metadata": {},
   "outputs": [],
   "source": []
  }
 ],
 "metadata": {
  "kernelspec": {
   "display_name": "Python 3 (ipykernel)",
   "language": "python",
   "name": "python3"
  },
  "language_info": {
   "codemirror_mode": {
    "name": "ipython",
    "version": 3
   },
   "file_extension": ".py",
   "mimetype": "text/x-python",
   "name": "python",
   "nbconvert_exporter": "python",
   "pygments_lexer": "ipython3",
   "version": "3.11.7"
  }
 },
 "nbformat": 4,
 "nbformat_minor": 5
}
